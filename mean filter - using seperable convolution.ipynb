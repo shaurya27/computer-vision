{
 "cells": [
  {
   "cell_type": "code",
   "execution_count": 205,
   "id": "vietnamese-medication",
   "metadata": {},
   "outputs": [],
   "source": [
    "import numpy as np\n",
    "import scipy.ndimage #import gaussian_filter\n",
    "import matplotlib.pyplot as plt\n",
    "%matplotlib inline"
   ]
  },
  {
   "cell_type": "code",
   "execution_count": 127,
   "id": "unauthorized-world",
   "metadata": {},
   "outputs": [],
   "source": [
    "image = np.random.randint(0,10,size=(5,5))"
   ]
  },
  {
   "cell_type": "code",
   "execution_count": 206,
   "id": "alternative-speech",
   "metadata": {},
   "outputs": [],
   "source": [
    "mean_kernel = np.array([[1,1,1],[1,1,1],[1,1,1]])/9\n",
    "hx = np.array([[1,1,1]])/3\n",
    "hy = np.array([[1,1,1]])/3"
   ]
  },
  {
   "cell_type": "code",
   "execution_count": 207,
   "id": "rental-height",
   "metadata": {},
   "outputs": [
    {
     "data": {
      "text/plain": [
       "((3, 3), (1, 3))"
      ]
     },
     "execution_count": 207,
     "metadata": {},
     "output_type": "execute_result"
    }
   ],
   "source": [
    "sobel_kernel.shape,hx.shape"
   ]
  },
  {
   "cell_type": "code",
   "execution_count": 208,
   "id": "preliminary-ecology",
   "metadata": {},
   "outputs": [],
   "source": [
    "def bruteForeceConvolution(image,kernel):\n",
    "    kernel_size = kernel.shape[0]\n",
    "    rows = []\n",
    "    for i in range(image.shape[0]-kernel.shape[0]+1):\n",
    "        cols = []\n",
    "        for j in range(image.shape[1]-kernel.shape[1]+1):\n",
    "            val = np.sum(image[i:i+kernel_size,j:j+kernel_size]*kernel)\n",
    "            cols.append(val)\n",
    "        rows.append(np.array(cols).reshape(1,-1))\n",
    "    return np.concatenate(rows,axis =0)"
   ]
  },
  {
   "cell_type": "code",
   "execution_count": 213,
   "id": "surrounded-services",
   "metadata": {},
   "outputs": [],
   "source": [
    "r = bruteForeceConvolution(image,mean_kernel)"
   ]
  },
  {
   "cell_type": "code",
   "execution_count": 214,
   "id": "patent-sleeve",
   "metadata": {},
   "outputs": [
    {
     "data": {
      "text/plain": [
       "array([[4.22222222, 4.11111111, 4.44444444],\n",
       "       [3.11111111, 4.66666667, 5.        ],\n",
       "       [2.        , 4.22222222, 5.22222222]])"
      ]
     },
     "execution_count": 214,
     "metadata": {},
     "output_type": "execute_result"
    }
   ],
   "source": [
    "r"
   ]
  },
  {
   "cell_type": "code",
   "execution_count": 215,
   "id": "illegal-newman",
   "metadata": {},
   "outputs": [],
   "source": [
    "def seperableConvoluttion(image,hx,hy):\n",
    "    # hx movement\n",
    "    output_size = image.shape[0]-hx.shape[1] +1\n",
    "    rows = []\n",
    "    for i in range(image.shape[0]):\n",
    "        cols=np.zeros(output_size)\n",
    "        cols[0] = np.sum(image[i][0:0+hx.shape[1]]*hx)\n",
    "        for idx,j in enumerate(range(hx.shape[1],image.shape[1])):\n",
    "            cols[idx+1] = cols[idx]+(image[i][j])- image[i][j-hx.shape[1]]    \n",
    "        rows.append(cols.reshape(1,-1))\n",
    "    image_hx = np.concatenate(rows,axis=0)\n",
    "    \n",
    "    # hy movement\n",
    "    cols = []\n",
    "    for i in range(image_hx.shape[1]):\n",
    "        rows = np.zeros(output_size)\n",
    "        rows[0] = np.sum(image_hx[0:0+hy.shape[1],i]*hy)\n",
    "        for idx, j in enumerate(range(hy.shape[1],image_hx.shape[0])):\n",
    "            rows[idx+1] = rows[idx]+ image_hx[j][i]-image_hx[j-hy.shape[1]][i]\n",
    "        cols.append(rows.reshape(-1,1))\n",
    "    o = np.concatenate(cols,axis=1)\n",
    "    return o"
   ]
  },
  {
   "cell_type": "code",
   "execution_count": 216,
   "id": "coastal-shannon",
   "metadata": {},
   "outputs": [
    {
     "data": {
      "text/plain": [
       "array([[ 4.22222222,  3.88888889,  4.88888889],\n",
       "       [ 0.88888889, 15.55555556, 16.55555556],\n",
       "       [-2.44444444, 18.22222222, 25.22222222]])"
      ]
     },
     "execution_count": 216,
     "metadata": {},
     "output_type": "execute_result"
    }
   ],
   "source": [
    "seperableConvoluttion(image,hx,hy)"
   ]
  },
  {
   "cell_type": "code",
   "execution_count": null,
   "id": "filled-passing",
   "metadata": {},
   "outputs": [],
   "source": []
  }
 ],
 "metadata": {
  "kernelspec": {
   "display_name": "Python 3",
   "language": "python",
   "name": "python3"
  },
  "language_info": {
   "codemirror_mode": {
    "name": "ipython",
    "version": 3
   },
   "file_extension": ".py",
   "mimetype": "text/x-python",
   "name": "python",
   "nbconvert_exporter": "python",
   "pygments_lexer": "ipython3",
   "version": "3.8.2"
  }
 },
 "nbformat": 4,
 "nbformat_minor": 5
}
