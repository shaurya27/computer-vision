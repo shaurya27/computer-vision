{
 "cells": [
  {
   "cell_type": "code",
   "execution_count": 379,
   "id": "advised-debate",
   "metadata": {},
   "outputs": [],
   "source": [
    "import numpy as np\n",
    "import matplotlib.pyplot as plt\n",
    "%matplotlib inline"
   ]
  },
  {
   "cell_type": "code",
   "execution_count": 485,
   "id": "artificial-eagle",
   "metadata": {},
   "outputs": [],
   "source": [
    "def convolution(image,kernel):\n",
    "    num_rows,num_cols,num_channels = image.shape\n",
    "    rows = np.array([j+(i*num_cols)+ (num_cols*num_rows*k) for k in range(num_channels) for i in range(kernel.shape[0]) for j in range(kernel.shape[1])])\n",
    "    cols = np.array([j+(i*num_cols) for i in range(kernel.shape[0]) for j in range(num_cols-kernel.shape[1]+1)])\n",
    "    grid = rows[None,:]+cols[:,None]\n",
    "    image_tr = image.transpose(2,0,1)\n",
    "    kernel_tr = kernel.transpose(2,0,1)\n",
    "    conv = np.dot(image_tr.take(grid),kernel_tr.flatten())\n",
    "    out_h,out_w = (image.shape[0]-kernel.shape[0]+1),(image.shape[1]-kernel.shape[1]+1)\n",
    "    conv = conv.reshape(out_h,out_w)\n",
    "    return conv"
   ]
  },
  {
   "cell_type": "code",
   "execution_count": 486,
   "id": "patent-processing",
   "metadata": {},
   "outputs": [
    {
     "name": "stdout",
     "output_type": "stream",
     "text": [
      "[[2081.1512677  2117.01453457 2212.48515403]\n",
      " [1571.95827338 1775.61020793 2083.8907313 ]\n",
      " [1668.02857244 2009.01944184 2248.85617642]]\n"
     ]
    }
   ],
   "source": [
    "image = np.random.randint(0,255,size=(5,5,3))\n",
    "kernel = np.random.uniform(size=(3,3,3))\n",
    "conv = convolution(image,kernel)\n",
    "print(conv)"
   ]
  },
  {
   "cell_type": "code",
   "execution_count": 487,
   "id": "olympic-genome",
   "metadata": {},
   "outputs": [],
   "source": [
    "image = np.random.randint(0,255,size=(2,5,5,3))"
   ]
  },
  {
   "cell_type": "code",
   "execution_count": 488,
   "id": "medical-fantasy",
   "metadata": {},
   "outputs": [],
   "source": [
    "def convolution2(image,kernel):\n",
    "    mb,num_rows,num_cols,num_channels = image.shape\n",
    "    rows = np.array([j+(i*num_cols)+ (num_cols*num_rows*k) for k in range(num_channels) for i in range(kernel.shape[0]) for j in range(kernel.shape[1])])\n",
    "    cols = np.array([j+(i*num_cols) for i in range(kernel.shape[0]) for j in range(num_cols-kernel.shape[1]+1)])\n",
    "    grid = rows[None,:]+cols[:,None]\n",
    "    batch = np.array(range(0,mb)) * num_channels * num_rows*num_cols\n",
    "    grid = batch[:,None,None] + grid[None,:,:]\n",
    "    image_tr = image.transpose(0,3,1,2)\n",
    "    kernel_tr = kernel.transpose(2,0,1)\n",
    "    conv = np.dot(image_tr.take(grid),kernel_tr.flatten())\n",
    "    out_h,out_w = (image.shape[1]-kernel.shape[0]+1),(image.shape[2]-kernel.shape[1]+1)\n",
    "    conv = conv.reshape(mb,out_h,out_w)\n",
    "    return conv"
   ]
  },
  {
   "cell_type": "code",
   "execution_count": 489,
   "id": "victorian-finnish",
   "metadata": {},
   "outputs": [
    {
     "data": {
      "text/plain": [
       "array([[[1586.73350667, 1480.20435651, 1870.01848184],\n",
       "        [1537.84870637, 1768.58135831, 1850.60109807],\n",
       "        [1965.2304619 , 2146.43063633, 1836.08809354]],\n",
       "\n",
       "       [[1755.05862728, 1870.55574524, 2295.26092165],\n",
       "        [1870.33668479, 1987.89334248, 2257.9251233 ],\n",
       "        [1971.89085547, 1752.5401403 , 1821.83708129]]])"
      ]
     },
     "execution_count": 489,
     "metadata": {},
     "output_type": "execute_result"
    }
   ],
   "source": [
    "convolution2(image,kernel)"
   ]
  },
  {
   "cell_type": "markdown",
   "id": "geological-witness",
   "metadata": {},
   "source": [
    "#### Idea from -> https://sgugger.github.io/convolution-in-depth.html#convolution-in-depth"
   ]
  },
  {
   "cell_type": "code",
   "execution_count": null,
   "id": "wooden-building",
   "metadata": {},
   "outputs": [],
   "source": []
  }
 ],
 "metadata": {
  "kernelspec": {
   "display_name": "Python 3",
   "language": "python",
   "name": "python3"
  },
  "language_info": {
   "codemirror_mode": {
    "name": "ipython",
    "version": 3
   },
   "file_extension": ".py",
   "mimetype": "text/x-python",
   "name": "python",
   "nbconvert_exporter": "python",
   "pygments_lexer": "ipython3",
   "version": "3.8.2"
  }
 },
 "nbformat": 4,
 "nbformat_minor": 5
}
