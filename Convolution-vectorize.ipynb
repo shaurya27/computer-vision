{
 "cells": [
  {
   "cell_type": "code",
   "execution_count": 1,
   "id": "amino-honey",
   "metadata": {},
   "outputs": [],
   "source": [
    "import numpy as np\n",
    "import matplotlib.pyplot as plt\n",
    "%matplotlib inline"
   ]
  },
  {
   "cell_type": "code",
   "execution_count": 10,
   "id": "determined-universal",
   "metadata": {},
   "outputs": [],
   "source": [
    "def convolution(image,kernel):\n",
    "    num_rows,num_cols,num_channels = image.shape\n",
    "    rows = np.array([j+(i*num_cols)+ (num_cols*num_rows*k) for k in range(num_channels) for i in range(kernel.shape[0]) for j in range(kernel.shape[1])])\n",
    "    cols = np.array([j+(i*num_cols) for i in range(num_rows-kernel.shape[0]+1) for j in range(num_cols-kernel.shape[1]+1)])\n",
    "    grid = rows[None,:]+cols[:,None]\n",
    "    image_tr = image.transpose(2,0,1)\n",
    "    kernel_tr = kernel.transpose(2,0,1)\n",
    "    conv = np.dot(image_tr.take(grid),kernel_tr.flatten())\n",
    "    out_h,out_w = (image.shape[0]-kernel.shape[0]+1),(image.shape[1]-kernel.shape[1]+1)\n",
    "    conv = conv.reshape(out_h,out_w)\n",
    "    return conv"
   ]
  },
  {
   "cell_type": "code",
   "execution_count": 11,
   "id": "distributed-italic",
   "metadata": {},
   "outputs": [
    {
     "name": "stdout",
     "output_type": "stream",
     "text": [
      "[[1971.01010935 1766.37017284 1930.51001495]\n",
      " [1643.29022906 1599.53701142 1759.19852932]\n",
      " [1958.55360629 2098.80408001 2017.63643403]]\n"
     ]
    }
   ],
   "source": [
    "image = np.random.randint(0,255,size=(5,5,3))\n",
    "kernel = np.random.uniform(size=(3,3,3))\n",
    "conv = convolution(image,kernel)\n",
    "print(conv)"
   ]
  },
  {
   "cell_type": "markdown",
   "id": "hollow-series",
   "metadata": {},
   "source": [
    "### Include batch"
   ]
  },
  {
   "cell_type": "code",
   "execution_count": 12,
   "id": "automatic-observation",
   "metadata": {},
   "outputs": [],
   "source": [
    "image = np.random.randint(0,255,size=(2,5,5,3))"
   ]
  },
  {
   "cell_type": "code",
   "execution_count": 13,
   "id": "independent-breakfast",
   "metadata": {},
   "outputs": [],
   "source": [
    "def convolution2(image,kernel):\n",
    "    mb,num_rows,num_cols,num_channels = image.shape\n",
    "    rows = np.array([j+(i*num_cols)+ (num_cols*num_rows*k) for k in range(num_channels) for i in range(kernel.shape[0]) for j in range(kernel.shape[1])])\n",
    "    cols = np.array([j+(i*num_cols) for i in range(num_rows-kernel.shape[0]+1) for j in range(num_cols-kernel.shape[1]+1)])\n",
    "    grid = rows[None,:]+cols[:,None]\n",
    "    batch = np.array(range(0,mb)) * num_channels * num_rows*num_cols\n",
    "    grid = batch[:,None,None] + grid[None,:,:]\n",
    "    image_tr = image.transpose(0,3,1,2)\n",
    "    kernel_tr = kernel.transpose(2,0,1)\n",
    "    conv = np.dot(image_tr.take(grid),kernel_tr.flatten())\n",
    "    out_h,out_w = (image.shape[1]-kernel.shape[0]+1),(image.shape[2]-kernel.shape[1]+1)\n",
    "    conv = conv.reshape(mb,out_h,out_w)\n",
    "    return conv"
   ]
  },
  {
   "cell_type": "code",
   "execution_count": 14,
   "id": "literary-silly",
   "metadata": {},
   "outputs": [
    {
     "data": {
      "text/plain": [
       "array([[[1481.93797227, 1635.12212008, 2249.62739054],\n",
       "        [1508.46592949, 2086.59998072, 2086.55118486],\n",
       "        [1503.12318692, 1539.60798838, 2057.51121662]],\n",
       "\n",
       "       [[1843.67827386, 1720.54255614, 2153.13613707],\n",
       "        [1777.41309311, 1542.20001529, 1997.57462824],\n",
       "        [1655.13133393, 1630.6294293 , 1794.80815171]]])"
      ]
     },
     "execution_count": 14,
     "metadata": {},
     "output_type": "execute_result"
    }
   ],
   "source": [
    "convolution2(image,kernel)"
   ]
  },
  {
   "cell_type": "markdown",
   "id": "ancient-functionality",
   "metadata": {},
   "source": [
    "#### Idea from -> https://sgugger.github.io/convolution-in-depth.html#convolution-in-depth"
   ]
  },
  {
   "cell_type": "code",
   "execution_count": null,
   "id": "important-ethiopia",
   "metadata": {},
   "outputs": [],
   "source": []
  },
  {
   "cell_type": "code",
   "execution_count": null,
   "id": "extra-parade",
   "metadata": {},
   "outputs": [],
   "source": []
  }
 ],
 "metadata": {
  "kernelspec": {
   "display_name": "Python 3",
   "language": "python",
   "name": "python3"
  },
  "language_info": {
   "codemirror_mode": {
    "name": "ipython",
    "version": 3
   },
   "file_extension": ".py",
   "mimetype": "text/x-python",
   "name": "python",
   "nbconvert_exporter": "python",
   "pygments_lexer": "ipython3",
   "version": "3.8.2"
  }
 },
 "nbformat": 4,
 "nbformat_minor": 5
}
